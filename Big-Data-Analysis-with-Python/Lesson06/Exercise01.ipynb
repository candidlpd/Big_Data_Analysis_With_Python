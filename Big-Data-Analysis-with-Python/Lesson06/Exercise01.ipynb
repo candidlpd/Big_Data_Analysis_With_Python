{
  "nbformat": 4,
  "nbformat_minor": 0,
  "metadata": {
    "colab": {
      "name": "Exercise01.ipynb",
      "version": "0.3.2",
      "provenance": []
    },
    "kernelspec": {
      "name": "python3",
      "display_name": "Python 3"
    }
  },
  "cells": [
    {
      "metadata": {
        "id": "T7p7SZAHKYJX",
        "colab_type": "code",
        "colab": {}
      },
      "cell_type": "code",
      "source": [
        "import numpy as np\n",
        "import pandas as pd\n",
        "import seaborn as sns\n",
        "import time\n",
        "import re\n",
        "import os\n",
        "import matplotlib.pyplot as plt\n",
        "sns.set(style=\"ticks\")\n"
      ],
      "execution_count": 0,
      "outputs": []
    },
    {
      "metadata": {
        "id": "cARpEq9KKdCi",
        "colab_type": "code",
        "colab": {
          "base_uri": "https://localhost:8080/",
          "height": 688
        },
        "outputId": "e800afd1-065e-4696-c674-6b82efb10fb5"
      },
      "cell_type": "code",
      "source": [
        "df = pd.read_csv('https://raw.githubusercontent.com/TrainingByPackt/Big-Data-Analysis-with-Python/master/Lesson07/Dataset/bank/bank.csv', sep=';')\n",
        "df.head(5)\n",
        "print(df.shape)\n",
        "df.head(5)\n",
        "df.info()\n",
        "df.describe()\n"
      ],
      "execution_count": 2,
      "outputs": [
        {
          "output_type": "stream",
          "text": [
            "(4521, 17)\n",
            "<class 'pandas.core.frame.DataFrame'>\n",
            "RangeIndex: 4521 entries, 0 to 4520\n",
            "Data columns (total 17 columns):\n",
            "age          4521 non-null int64\n",
            "job          4521 non-null object\n",
            "marital      4521 non-null object\n",
            "education    4521 non-null object\n",
            "default      4521 non-null object\n",
            "balance      4521 non-null int64\n",
            "housing      4521 non-null object\n",
            "loan         4521 non-null object\n",
            "contact      4521 non-null object\n",
            "day          4521 non-null int64\n",
            "month        4521 non-null object\n",
            "duration     4521 non-null int64\n",
            "campaign     4521 non-null int64\n",
            "pdays        4521 non-null int64\n",
            "previous     4521 non-null int64\n",
            "poutcome     4521 non-null object\n",
            "y            4521 non-null object\n",
            "dtypes: int64(7), object(10)\n",
            "memory usage: 600.5+ KB\n"
          ],
          "name": "stdout"
        },
        {
          "output_type": "execute_result",
          "data": {
            "text/html": [
              "<div>\n",
              "<style scoped>\n",
              "    .dataframe tbody tr th:only-of-type {\n",
              "        vertical-align: middle;\n",
              "    }\n",
              "\n",
              "    .dataframe tbody tr th {\n",
              "        vertical-align: top;\n",
              "    }\n",
              "\n",
              "    .dataframe thead th {\n",
              "        text-align: right;\n",
              "    }\n",
              "</style>\n",
              "<table border=\"1\" class=\"dataframe\">\n",
              "  <thead>\n",
              "    <tr style=\"text-align: right;\">\n",
              "      <th></th>\n",
              "      <th>age</th>\n",
              "      <th>balance</th>\n",
              "      <th>day</th>\n",
              "      <th>duration</th>\n",
              "      <th>campaign</th>\n",
              "      <th>pdays</th>\n",
              "      <th>previous</th>\n",
              "    </tr>\n",
              "  </thead>\n",
              "  <tbody>\n",
              "    <tr>\n",
              "      <th>count</th>\n",
              "      <td>4521.000000</td>\n",
              "      <td>4521.000000</td>\n",
              "      <td>4521.000000</td>\n",
              "      <td>4521.000000</td>\n",
              "      <td>4521.000000</td>\n",
              "      <td>4521.000000</td>\n",
              "      <td>4521.000000</td>\n",
              "    </tr>\n",
              "    <tr>\n",
              "      <th>mean</th>\n",
              "      <td>41.170095</td>\n",
              "      <td>1422.657819</td>\n",
              "      <td>15.915284</td>\n",
              "      <td>263.961292</td>\n",
              "      <td>2.793630</td>\n",
              "      <td>39.766645</td>\n",
              "      <td>0.542579</td>\n",
              "    </tr>\n",
              "    <tr>\n",
              "      <th>std</th>\n",
              "      <td>10.576211</td>\n",
              "      <td>3009.638142</td>\n",
              "      <td>8.247667</td>\n",
              "      <td>259.856633</td>\n",
              "      <td>3.109807</td>\n",
              "      <td>100.121124</td>\n",
              "      <td>1.693562</td>\n",
              "    </tr>\n",
              "    <tr>\n",
              "      <th>min</th>\n",
              "      <td>19.000000</td>\n",
              "      <td>-3313.000000</td>\n",
              "      <td>1.000000</td>\n",
              "      <td>4.000000</td>\n",
              "      <td>1.000000</td>\n",
              "      <td>-1.000000</td>\n",
              "      <td>0.000000</td>\n",
              "    </tr>\n",
              "    <tr>\n",
              "      <th>25%</th>\n",
              "      <td>33.000000</td>\n",
              "      <td>69.000000</td>\n",
              "      <td>9.000000</td>\n",
              "      <td>104.000000</td>\n",
              "      <td>1.000000</td>\n",
              "      <td>-1.000000</td>\n",
              "      <td>0.000000</td>\n",
              "    </tr>\n",
              "    <tr>\n",
              "      <th>50%</th>\n",
              "      <td>39.000000</td>\n",
              "      <td>444.000000</td>\n",
              "      <td>16.000000</td>\n",
              "      <td>185.000000</td>\n",
              "      <td>2.000000</td>\n",
              "      <td>-1.000000</td>\n",
              "      <td>0.000000</td>\n",
              "    </tr>\n",
              "    <tr>\n",
              "      <th>75%</th>\n",
              "      <td>49.000000</td>\n",
              "      <td>1480.000000</td>\n",
              "      <td>21.000000</td>\n",
              "      <td>329.000000</td>\n",
              "      <td>3.000000</td>\n",
              "      <td>-1.000000</td>\n",
              "      <td>0.000000</td>\n",
              "    </tr>\n",
              "    <tr>\n",
              "      <th>max</th>\n",
              "      <td>87.000000</td>\n",
              "      <td>71188.000000</td>\n",
              "      <td>31.000000</td>\n",
              "      <td>3025.000000</td>\n",
              "      <td>50.000000</td>\n",
              "      <td>871.000000</td>\n",
              "      <td>25.000000</td>\n",
              "    </tr>\n",
              "  </tbody>\n",
              "</table>\n",
              "</div>"
            ],
            "text/plain": [
              "               age       balance          day     duration     campaign  \\\n",
              "count  4521.000000   4521.000000  4521.000000  4521.000000  4521.000000   \n",
              "mean     41.170095   1422.657819    15.915284   263.961292     2.793630   \n",
              "std      10.576211   3009.638142     8.247667   259.856633     3.109807   \n",
              "min      19.000000  -3313.000000     1.000000     4.000000     1.000000   \n",
              "25%      33.000000     69.000000     9.000000   104.000000     1.000000   \n",
              "50%      39.000000    444.000000    16.000000   185.000000     2.000000   \n",
              "75%      49.000000   1480.000000    21.000000   329.000000     3.000000   \n",
              "max      87.000000  71188.000000    31.000000  3025.000000    50.000000   \n",
              "\n",
              "             pdays     previous  \n",
              "count  4521.000000  4521.000000  \n",
              "mean     39.766645     0.542579  \n",
              "std     100.121124     1.693562  \n",
              "min      -1.000000     0.000000  \n",
              "25%      -1.000000     0.000000  \n",
              "50%      -1.000000     0.000000  \n",
              "75%      -1.000000     0.000000  \n",
              "max     871.000000    25.000000  "
            ]
          },
          "metadata": {
            "tags": []
          },
          "execution_count": 2
        }
      ]
    },
    {
      "metadata": {
        "id": "zNCWUHdLKk7R",
        "colab_type": "code",
        "colab": {
          "base_uri": "https://localhost:8080/",
          "height": 444
        },
        "outputId": "31883974-ac27-41c0-a7e4-bbe6f452637f"
      },
      "cell_type": "code",
      "source": [
        "count_number_susbc = df[\"y\"].value_counts()\n",
        "sns.barplot(count_number_susbc.index, count_number_susbc.values)\n",
        "\n",
        "df['y'].value_counts()"
      ],
      "execution_count": 3,
      "outputs": [
        {
          "output_type": "stream",
          "text": [
            "/usr/local/lib/python3.6/dist-packages/seaborn/categorical.py:1428: FutureWarning: remove_na is deprecated and is a private function. Do not use.\n",
            "  stat_data = remove_na(group_data)\n"
          ],
          "name": "stderr"
        },
        {
          "output_type": "execute_result",
          "data": {
            "text/plain": [
              "no     4000\n",
              "yes     521\n",
              "Name: y, dtype: int64"
            ]
          },
          "metadata": {
            "tags": []
          },
          "execution_count": 3
        },
        {
          "output_type": "display_data",
          "data": {
            "image/png": "[encoded data removed]",
            "text/plain": [
              "<Figure size 576x396 with 1 Axes>"
            ]
          },
          "metadata": {
            "tags": []
          }
        }
      ]
    },
    {
      "metadata": {
        "id": "627ALc6qKr_B",
        "colab_type": "code",
        "colab": {
          "base_uri": "https://localhost:8080/",
          "height": 441
        },
        "outputId": "acc4427a-35ab-4f41-f6af-448b565b8ed0"
      },
      "cell_type": "code",
      "source": [
        "# histogram for age (using matplotlib)\n",
        "plt.hist(df['age'], color = 'grey', edgecolor = 'black',\n",
        "         bins = int(180/5))\n",
        "\n",
        "# histogram for age (using seaborn)\n",
        "sns.distplot(df['age'], hist=True, kde=False, \n",
        "             bins=int(180/5), color = 'blue',\n",
        "             hist_kws={'edgecolor':'black'})\n"
      ],
      "execution_count": 4,
      "outputs": [
        {
          "output_type": "stream",
          "text": [
            "/usr/local/lib/python3.6/dist-packages/matplotlib/axes/_axes.py:6521: MatplotlibDeprecationWarning: \n",
            "The 'normed' kwarg was deprecated in Matplotlib 2.1 and will be removed in 3.1. Use 'density' instead.\n",
            "  alternative=\"'density'\", removal=\"3.1\")\n"
          ],
          "name": "stderr"
        },
        {
          "output_type": "execute_result",
          "data": {
            "text/plain": [
              "<matplotlib.axes._subplots.AxesSubplot at 0x7fc7a60e0b00>"
            ]
          },
          "metadata": {
            "tags": []
          },
          "execution_count": 4
        },
        {
          "output_type": "display_data",
          "data": {
            "image/png": "[encoded data removed]",
            "text/plain": [
              "<Figure size 576x396 with 1 Axes>"
            ]
          },
          "metadata": {
            "tags": []
          }
        }
      ]
    },
    {
      "metadata": {
        "id": "-WnhidUaKvI5",
        "colab_type": "code",
        "colab": {
          "base_uri": "https://localhost:8080/",
          "height": 441
        },
        "outputId": "e7fb132d-d386-42f2-977f-f62625f62f62"
      },
      "cell_type": "code",
      "source": [
        "# histogram for balance (using matplotlib)\n",
        "plt.hist(df['balance'], color = 'grey', edgecolor = 'black',\n",
        "         bins = int(180/5))\n",
        "\n",
        "# histogram for balance (using seaborn)\n",
        "sns.distplot(df['balance'], hist=True, kde=False, \n",
        "             bins=int(180/5), color = 'blue',\n",
        "             hist_kws={'edgecolor':'black'})\n"
      ],
      "execution_count": 5,
      "outputs": [
        {
          "output_type": "stream",
          "text": [
            "/usr/local/lib/python3.6/dist-packages/matplotlib/axes/_axes.py:6521: MatplotlibDeprecationWarning: \n",
            "The 'normed' kwarg was deprecated in Matplotlib 2.1 and will be removed in 3.1. Use 'density' instead.\n",
            "  alternative=\"'density'\", removal=\"3.1\")\n"
          ],
          "name": "stderr"
        },
        {
          "output_type": "execute_result",
          "data": {
            "text/plain": [
              "<matplotlib.axes._subplots.AxesSubplot at 0x7fc7a5f308d0>"
            ]
          },
          "metadata": {
            "tags": []
          },
          "execution_count": 5
        },
        {
          "output_type": "display_data",
          "data": {
            "image/png": "[encoded data removed]",
            "text/plain": [
              "<Figure size 576x396 with 1 Axes>"
            ]
          },
          "metadata": {
            "tags": []
          }
        }
      ]
    },
    {
      "metadata": {
        "id": "wgLxVjlIKxFa",
        "colab_type": "code",
        "colab": {
          "base_uri": "https://localhost:8080/",
          "height": 478
        },
        "outputId": "a9c81def-46a4-4d24-aa5f-b5f41406c064"
      },
      "cell_type": "code",
      "source": [
        "# barplot for the variable 'education'\n",
        "count_number_susbc = df[\"education\"].value_counts()\n",
        "sns.barplot(count_number_susbc.index, count_number_susbc.values)\n",
        "\n",
        "df['education'].value_counts()\n"
      ],
      "execution_count": 6,
      "outputs": [
        {
          "output_type": "stream",
          "text": [
            "/usr/local/lib/python3.6/dist-packages/seaborn/categorical.py:1428: FutureWarning: remove_na is deprecated and is a private function. Do not use.\n",
            "  stat_data = remove_na(group_data)\n"
          ],
          "name": "stderr"
        },
        {
          "output_type": "execute_result",
          "data": {
            "text/plain": [
              "secondary    2306\n",
              "tertiary     1350\n",
              "primary       678\n",
              "unknown       187\n",
              "Name: education, dtype: int64"
            ]
          },
          "metadata": {
            "tags": []
          },
          "execution_count": 6
        },
        {
          "output_type": "display_data",
          "data": {
            "image/png": "[encoded data removed]",
            "text/plain": [
              "<Figure size 576x396 with 1 Axes>"
            ]
          },
          "metadata": {
            "tags": []
          }
        }
      ]
    },
    {
      "metadata": {
        "id": "jJf_BFJQKy2j",
        "colab_type": "code",
        "colab": {
          "base_uri": "https://localhost:8080/",
          "height": 478
        },
        "outputId": "1cd6ecb4-efc0-41e4-aff5-0194dd733794"
      },
      "cell_type": "code",
      "source": [
        "# barplot for the variable 'month'\n",
        "count_number_susbc = df[\"month\"].value_counts()\n",
        "sns.barplot(count_number_susbc.index, count_number_susbc.values)\n",
        "\n",
        "df['education'].value_counts()\n"
      ],
      "execution_count": 7,
      "outputs": [
        {
          "output_type": "stream",
          "text": [
            "/usr/local/lib/python3.6/dist-packages/seaborn/categorical.py:1428: FutureWarning: remove_na is deprecated and is a private function. Do not use.\n",
            "  stat_data = remove_na(group_data)\n"
          ],
          "name": "stderr"
        },
        {
          "output_type": "execute_result",
          "data": {
            "text/plain": [
              "secondary    2306\n",
              "tertiary     1350\n",
              "primary       678\n",
              "unknown       187\n",
              "Name: education, dtype: int64"
            ]
          },
          "metadata": {
            "tags": []
          },
          "execution_count": 7
        },
        {
          "output_type": "display_data",
          "data": {
            "image/png": "[encoded data removed]",
            "text/plain": [
              "<Figure size 576x396 with 1 Axes>"
            ]
          },
          "metadata": {
            "tags": []
          }
        }
      ]
    },
    {
      "metadata": {
        "id": "3eECPnXMK17R",
        "colab_type": "code",
        "colab": {
          "base_uri": "https://localhost:8080/",
          "height": 399
        },
        "outputId": "94e14e00-905c-47dd-d6fe-a20d429f7fe0"
      },
      "cell_type": "code",
      "source": [
        "# generate separate list for each subscription type for age\n",
        "\n",
        "x1 = list(df[df['y'] == 'yes']['age'])\n",
        "x2 = list(df[df['y'] == 'no']['age'])\n",
        "\n",
        "# assign colors for each subscription type \n",
        "colors = ['#E69F00', '#56B4E9']\n",
        "names = ['yes', 'no']\n",
        "\n",
        "# plot the histogram\n",
        "plt.hist([x1, x2], bins = int(180/15), density=True,\n",
        "         color = colors, label=names)\n",
        "\n",
        "# plot formatting\n",
        "plt.legend()\n",
        "plt.xlabel('IV')\n",
        "plt.ylabel('prob distr (IV) for yes and no')\n",
        "plt.title('Histogram for Yes and No Events w.r.t. IV')\n"
      ],
      "execution_count": 8,
      "outputs": [
        {
          "output_type": "execute_result",
          "data": {
            "text/plain": [
              "Text(0.5, 1.0, 'Histogram for Yes and No Events w.r.t. IV')"
            ]
          },
          "metadata": {
            "tags": []
          },
          "execution_count": 8
        },
        {
          "output_type": "display_data",
          "data": {
            "image/png": "[encoded data removed]",
            "text/plain": [
              "<Figure size 576x396 with 1 Axes>"
            ]
          },
          "metadata": {
            "tags": []
          }
        }
      ]
    },
    {
      "metadata": {
        "id": "3PBmrB0mK4aJ",
        "colab_type": "code",
        "colab": {
          "base_uri": "https://localhost:8080/",
          "height": 643
        },
        "outputId": "5baca65e-e4d7-46d9-8258-0ff4bbfea412"
      },
      "cell_type": "code",
      "source": [
        "df.groupby([\"month\", \"y\"]).size().unstack().plot(kind='bar', stacked=True, figsize=(20,10))"
      ],
      "execution_count": 9,
      "outputs": [
        {
          "output_type": "execute_result",
          "data": {
            "text/plain": [
              "<matplotlib.axes._subplots.AxesSubplot at 0x7fc7a5d8c908>"
            ]
          },
          "metadata": {
            "tags": []
          },
          "execution_count": 9
        },
        {
          "output_type": "display_data",
          "data": {
            "image/png": "[encoded data removed]",
            "text/plain": [
              "<Figure size 1440x720 with 1 Axes>"
            ]
          },
          "metadata": {
            "tags": []
          }
        }
      ]
    }
  ]
}