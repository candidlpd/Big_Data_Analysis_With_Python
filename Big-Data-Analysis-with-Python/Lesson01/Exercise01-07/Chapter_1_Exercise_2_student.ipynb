{
 "cells": [
  {
   "cell_type": "markdown",
   "metadata": {
    "colab_type": "text",
    "id": "IAXSjViAUxlC"
   },
   "source": [
    "# Exercise 03: Exploring Jupyter Notebook\n",
    "\n",
    "We will demonstrate in this notebook the main functionalities that we can use in Jupyter."
   ]
  },
  {
   "cell_type": "code",
   "execution_count": 1,
   "metadata": {
    "colab": {
     "base_uri": "https://localhost:8080/",
     "height": 35
    },
    "colab_type": "code",
    "id": "SvIV4GErnDN-",
    "outputId": "4b0e9265-d174-4749-8402-1773a7b79cd5"
   },
   "outputs": [
    {
     "name": "stdout",
     "output_type": "stream",
     "text": [
      "4\n"
     ]
    }
   ],
   "source": [
    "# This is a computation cell. It can accept any Python code, as it would be typed on IPython or in a script."
   ]
  },
  {
   "cell_type": "markdown",
   "metadata": {
    "colab_type": "text",
    "id": "yuxzdHQ-nWMg"
   },
   "source": [
    "This is a text cell. Please include in the cell: \n",
    "\n",
    "- include formatting\n",
    "- include an image from the web\n",
    "- include a LaTex expression\n",
    "\n"
   ]
  },
  {
   "cell_type": "markdown",
   "metadata": {
    "colab_type": "text",
    "id": "SQvvyLY3XpFh"
   },
   "source": [
    "## Numpy example\n",
    "\n",
    "Import numpy and create arrays with zeros and ones, with different shapes."
   ]
  },
  {
   "cell_type": "markdown",
   "metadata": {
    "colab_type": "text",
    "id": "X7l45R2DX0Y4"
   },
   "source": [
    "## Pandas example\n",
    "\n",
    "Import pandas and create a dataframe with a dictionary."
   ]
  },
  {
   "cell_type": "code",
   "execution_count": null,
   "metadata": {},
   "outputs": [],
   "source": []
  }
 ],
 "metadata": {
  "colab": {
   "name": "Chapter 1 - Activity 1.ipynb",
   "provenance": [],
   "version": "0.3.2"
  },
  "kernelspec": {
   "display_name": "Python 3",
   "language": "python",
   "name": "python3"
  },
  "language_info": {
   "codemirror_mode": {
    "name": "ipython",
    "version": 3
   },
   "file_extension": ".py",
   "mimetype": "text/x-python",
   "name": "python",
   "nbconvert_exporter": "python",
   "pygments_lexer": "ipython3",
   "version": "3.6.6"
  }
 },
 "nbformat": 4,
 "nbformat_minor": 2
}
