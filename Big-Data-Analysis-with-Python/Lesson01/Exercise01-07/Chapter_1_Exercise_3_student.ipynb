{
 "cells": [
  {
   "cell_type": "markdown",
   "metadata": {},
   "source": [
    "## Exercise 3: Data selection and the .loc method\n",
    "\n",
    "Let's select some data with the numpy notation and use the .loc method. We will use the the RadNet Laboratory Analysis, from the U.S. Environmental Protection Agency, located [here](https://opendata.socrata.com/api/views/cf4r-dfwe/). This dataset describes the radioactive content collected by the USPA in different cities in the US, for different radionuclides. "
   ]
  },
  {
   "cell_type": "code",
   "execution_count": 1,
   "metadata": {},
   "outputs": [],
   "source": [
    "import numpy as np\n",
    "import pandas as pd"
   ]
  },
  {
   "cell_type": "markdown",
   "metadata": {},
   "source": [
    "First, select the column \"State\":"
   ]
  },
  {
   "cell_type": "markdown",
   "metadata": {},
   "source": [
    "To filter based on the value of the data, use the comparison with filter:"
   ]
  },
  {
   "cell_type": "markdown",
   "metadata": {},
   "source": [
    "More than one condition can be applied at the same time:"
   ]
  },
  {
   "cell_type": "markdown",
   "metadata": {},
   "source": [
    "Now select the MN state and the I-131 radionuclide:"
   ]
  },
  {
   "cell_type": "markdown",
   "metadata": {},
   "source": [
    "Another common approach is the use of the method `.loc`:\n",
    "\n",
    "```\n",
    "df.loc[<row selection>, <column selection>]\n",
    "```"
   ]
  },
  {
   "cell_type": "markdown",
   "metadata": {},
   "source": [
    "Note that, differently from the results above, the result of the loc filter is a Series and not a DataFrame. This depends on the operation and selection done on the DataFrame and not is caused only by loc: as the DataFrame can be understood as a 2D combination of Series, a selection of one column will return a Series."
   ]
  },
  {
   "cell_type": "code",
   "execution_count": null,
   "metadata": {},
   "outputs": [],
   "source": []
  }
 ],
 "metadata": {
  "kernelspec": {
   "display_name": "Python 3",
   "language": "python",
   "name": "python3"
  },
  "language_info": {
   "codemirror_mode": {
    "name": "ipython",
    "version": 3
   },
   "file_extension": ".py",
   "mimetype": "text/x-python",
   "name": "python",
   "nbconvert_exporter": "python",
   "pygments_lexer": "ipython3",
   "version": "3.6.6"
  }
 },
 "nbformat": 4,
 "nbformat_minor": 2
}
